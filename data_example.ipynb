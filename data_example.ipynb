{
 "cells": [
  {
   "cell_type": "code",
   "execution_count": 13,
   "outputs": [
    {
     "name": "stdout",
     "output_type": "stream",
     "text": [
      "USPS数据集加载完毕！          \n",
      "USPS (11000, 256) 11000 10\n",
      "bloodmnist数据集加载完毕！          \n",
      "bloodmnist (17092, 2352) 17092 8\n",
      "ETH-80-10数据集加载完毕！          \n",
      "ETH-80-10 (80, 400, 10) 80 8\n"
     ]
    }
   ],
   "source": [
    "## 加载数据集示例\n",
    "import numpy as np\n",
    "from DATA import Load_Data\n",
    "## USPS数据集\n",
    "data, target = Load_Data(\"USPS\").Loading()\n",
    "print(\"USPS\", data.shape, len(target), len(np.unique(target)))\n",
    "\n",
    "## bloodmnist数据集(格拉斯曼数据集)\n",
    "data, target = Load_Data(\"bloodmnist\").Load_MedMNIST()\n",
    "print(\"bloodmnist\", data.shape, len(target), len(np.unique(target)))\n",
    "\n",
    "## ETH-80-10数据集(格拉斯曼数据集)\n",
    "data, target = Load_Data(\"ETH-80-10\").Loading()\n",
    "print(\"ETH-80-10\", data.shape, len(target), len(np.unique(target)))\n"
   ],
   "metadata": {
    "collapsed": false,
    "ExecuteTime": {
     "end_time": "2025-03-16T18:37:28.779159400Z",
     "start_time": "2025-03-16T18:37:27.560041400Z"
    }
   }
  },
  {
   "cell_type": "code",
   "execution_count": 14,
   "outputs": [
    {
     "name": "stdout",
     "output_type": "stream",
     "text": [
      "USPS数据集加载完毕！          \n",
      "(11000, 256) (100, 256) (10900, 256)\n",
      "[1100 1100 1100 1100 1100 1100 1100 1100 1100 1100]\n",
      "[110 110 110 110 110 110 110 110 110 110]\n",
      "[990 990 990 990 990 990 990 990 990 990]\n",
      "[1100 1100 1100 1100 1100 1100 1100 1100 1100 1100]\n",
      "[1098 1098 1098 1098 1098 1098 1098 1098 1098 1098]\n",
      "[2 2 2 2 2 2 2 2 2 2]\n"
     ]
    }
   ],
   "source": [
    "## 随机采样示例\n",
    "import numpy as np\n",
    "from DATA import Pre_Procession as pp\n",
    "from DATA import Load_Data\n",
    "data, target = Load_Data(\"USPS\").Loading()\n",
    "train_data, test_data, train_target, test_target = pp().uniform_sampling(data, target, train_size=10, random_state=517)\n",
    "print(data.shape, train_data.shape, test_data.shape)\n",
    "\n",
    "train_data, test_data, train_target, test_target = pp().uniform_sampling(data, target, train_size=0.1, random_state=517)\n",
    "print(np.unique(target, return_counts=True)[1])\n",
    "print(np.unique(train_target, return_counts=True)[1])\n",
    "print(np.unique(test_target, return_counts=True)[1])\n",
    "\n",
    "train_data, test_data, train_target, test_target = pp().sub_one_sampling(data, target, train_size=2, random_state=517)\n",
    "print(np.unique(target, return_counts=True)[1])\n",
    "print(np.unique(train_target, return_counts=True)[1])\n",
    "print(np.unique(test_target, return_counts=True)[1])"
   ],
   "metadata": {
    "collapsed": false,
    "ExecuteTime": {
     "end_time": "2025-03-16T18:37:29.166869400Z",
     "start_time": "2025-03-16T18:37:28.779159400Z"
    }
   }
  }
 ],
 "metadata": {
  "kernelspec": {
   "display_name": "Python 3",
   "language": "python",
   "name": "python3"
  },
  "language_info": {
   "codemirror_mode": {
    "name": "ipython",
    "version": 2
   },
   "file_extension": ".py",
   "mimetype": "text/x-python",
   "name": "python",
   "nbconvert_exporter": "python",
   "pygments_lexer": "ipython2",
   "version": "2.7.6"
  }
 },
 "nbformat": 4,
 "nbformat_minor": 0
}
